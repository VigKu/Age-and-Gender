{
 "cells": [
  {
   "cell_type": "code",
   "execution_count": 1,
   "metadata": {
    "id": "XNmyOjGa_eoa"
   },
   "outputs": [],
   "source": [
    "import sys,os\n",
    "#import pandas as pd\n",
    "import numpy as np\n",
    "import matplotlib as mpl\n",
    "import matplotlib.pyplot as plt\n",
    "import torch.utils\n",
    "#import cv2"
   ]
  },
  {
   "cell_type": "code",
   "execution_count": 2,
   "metadata": {
    "id": "A_cy_wzgANsg"
   },
   "outputs": [],
   "source": [
    "import torch\n",
    "from torch.utils.data import Dataset, DataLoader\n",
    "import torchvision\n",
    "import torchvision.models as models\n",
    "import torchvision.transforms as transforms\n",
    "from PIL import Image"
   ]
  },
  {
   "cell_type": "code",
   "execution_count": 3,
   "metadata": {
    "id": "SfPO47g8C2Cs"
   },
   "outputs": [],
   "source": [
    "import torch.nn as nn\n",
    "import torch.nn.functional as F\n",
    "import torch.optim as optim\n",
    "from torch.optim import lr_scheduler\n",
    "from random import randint"
   ]
  },
  {
   "cell_type": "code",
   "execution_count": 4,
   "metadata": {
    "colab": {
     "base_uri": "https://localhost:8080/",
     "height": 35
    },
    "executionInfo": {
     "elapsed": 972,
     "status": "ok",
     "timestamp": 1603117788615,
     "user": {
      "displayName": "Vignesh",
      "photoUrl": "",
      "userId": "16532613829729226628"
     },
     "user_tz": -480
    },
    "id": "AX9HYCIYAqBG",
    "outputId": "909663d9-fda1-49d8-859c-da1c21a23319"
   },
   "outputs": [
    {
     "name": "stdout",
     "output_type": "stream",
     "text": [
      "cuda\n"
     ]
    }
   ],
   "source": [
    "device = torch.device(\"cuda\")\n",
    "#device = torch.device(\"cpu\")\n",
    "print(device)"
   ]
  },
  {
   "cell_type": "code",
   "execution_count": 5,
   "metadata": {
    "id": "xXMmQb2bANvC"
   },
   "outputs": [],
   "source": [
    "path = 'C:/Users/vigne/Desktop/age_gender_folder'\n"
   ]
  },
  {
   "cell_type": "code",
   "execution_count": 6,
   "metadata": {
    "id": "30IGPIoaAtIG"
   },
   "outputs": [],
   "source": [
    "x_train = np.load(path+'/x_train.npy')\n",
    "y_train = np.load(path+'/y_train.npy')\n",
    "x_val = np.load(path+'/x_val.npy')\n",
    "y_val = np.load(path+'/y_val.npy')"
   ]
  },
  {
   "cell_type": "code",
   "execution_count": 7,
   "metadata": {
    "colab": {
     "base_uri": "https://localhost:8080/",
     "height": 35
    },
    "executionInfo": {
     "elapsed": 5302,
     "status": "ok",
     "timestamp": 1603117795927,
     "user": {
      "displayName": "Vignesh",
      "photoUrl": "",
      "userId": "16532613829729226628"
     },
     "user_tz": -480
    },
    "id": "utbQPLulAtLe",
    "outputId": "17946a85-0502-4064-80c4-7e834335041f"
   },
   "outputs": [
    {
     "data": {
      "text/plain": [
       "(14952, 1, 48, 48)"
      ]
     },
     "execution_count": 7,
     "metadata": {},
     "output_type": "execute_result"
    }
   ],
   "source": [
    "x_train.shape"
   ]
  },
  {
   "cell_type": "code",
   "execution_count": 8,
   "metadata": {
    "colab": {
     "base_uri": "https://localhost:8080/",
     "height": 35
    },
    "executionInfo": {
     "elapsed": 4558,
     "status": "ok",
     "timestamp": 1603117795927,
     "user": {
      "displayName": "Vignesh",
      "photoUrl": "",
      "userId": "16532613829729226628"
     },
     "user_tz": -480
    },
    "id": "PZgaYScGcUWI",
    "outputId": "8529fecb-20c2-43ca-90a0-c5d377f09ebd"
   },
   "outputs": [
    {
     "data": {
      "text/plain": [
       "(1662, 1, 48, 48)"
      ]
     },
     "execution_count": 8,
     "metadata": {},
     "output_type": "execute_result"
    }
   ],
   "source": [
    "x_val.shape"
   ]
  },
  {
   "cell_type": "code",
   "execution_count": 9,
   "metadata": {},
   "outputs": [],
   "source": [
    "#size = 224\n",
    "transform = transforms.Compose(\n",
    "    [transforms.ToPILImage(),\n",
    "     #transforms.Resize((size,size)),\n",
    "     transforms.RandomRotation(degrees = 20),\n",
    "     transforms.RandomHorizontalFlip(),\n",
    "     transforms.ToTensor(),\n",
    "     transforms.Normalize((0.5),(0.5))\n",
    "])\n",
    "\n",
    "class MyDataset(Dataset):\n",
    "    def __init__(self, data, target, transform=transform):\n",
    "        self.data = torch.from_numpy(data).float()\n",
    "        self.target = torch.from_numpy(target).long()\n",
    "        self.transform = transform\n",
    "     \n",
    "    def __len__(self):\n",
    "        return len(self.target)\n",
    "    \n",
    "    def __getitem__(self, index):\n",
    "        \n",
    "        return self.data[index], self.target[index]\n",
    "        "
   ]
  },
  {
   "cell_type": "code",
   "execution_count": 10,
   "metadata": {
    "id": "ADhC292WCJ3y"
   },
   "outputs": [],
   "source": [
    "class myModel(nn.Module):\n",
    "    def __init__(self):\n",
    "        super(myModel , self).__init__()\n",
    "     \n",
    "        self.conv1 = nn.Conv2d(1,  16,  kernel_size=3 )\n",
    "        self.pool1  = nn.MaxPool2d(2,2)\n",
    "        self.batch1 = nn.BatchNorm2d(16)\n",
    "\n",
    "        self.conv2 = nn.Conv2d(16,  32, kernel_size=3 )\n",
    "        self.pool2  = nn.MaxPool2d(2,2)\n",
    "        self.batch2 = nn.BatchNorm2d(32)\n",
    "      \n",
    "        self.conv3 = nn.Conv2d(32, 64, kernel_size=3 )\n",
    "        self.pool3  = nn.MaxPool2d(2,2)\n",
    "        self.batch3 = nn.BatchNorm2d(64)\n",
    "    \n",
    "        self.conv4 = nn.Conv2d(64, 128, kernel_size=3 )\n",
    "        self.pool4  = nn.MaxPool2d(2,2)\n",
    "        self.batch4 = nn.BatchNorm2d(128)\n",
    "\n",
    "        self.linear1 = nn.Linear(128*1*1, 64)\n",
    "        self.linear2 = nn.Linear(64,32)\n",
    "        self.linear3 = nn.Linear(32,16)\n",
    "        self.dropout1 = nn.Dropout(p=0.2)\n",
    "        self.dropout2 = nn.Dropout(p=0.4)\n",
    "        \n",
    "    \n",
    "    def forward(self, x):\n",
    "\n",
    "        x = self.conv1(x)\n",
    "        x = F.relu(x)\n",
    "        x = self.batch1(x)\n",
    "        x = self.pool1(x)\n",
    "    \n",
    "        x = self.conv2(x)\n",
    "        x = F.relu(x)\n",
    "        x = self.batch2(x)\n",
    "        x = self.pool2(x)\n",
    "    \n",
    "        x = self.conv3(x)\n",
    "        x = F.relu(x)\n",
    "        x = self.pool3(x)\n",
    "    \n",
    "        x = self.conv4(x)\n",
    "        x = F.relu(x)\n",
    "        x = self.pool4(x)\n",
    "        x = self.batch4(x)\n",
    "\n",
    "        x = x.view(-1, 128)\n",
    "\n",
    "        x = self.linear1(x)\n",
    "        x = F.relu(x)\n",
    "        x = self.dropout1(x)\n",
    "        x = self.linear2(x)\n",
    "        x = F.relu(x)\n",
    "        x = self.dropout2(x)\n",
    "        x = self.linear3(x)\n",
    "\n",
    "        \n",
    "        return x"
   ]
  },
  {
   "cell_type": "code",
   "execution_count": 34,
   "metadata": {},
   "outputs": [],
   "source": [
    "batchsize = 100\n",
    "in_channel = 1\n",
    "num_classes = 16\n",
    "learning_rate = 0.08\n",
    "num_epochs = 30"
   ]
  },
  {
   "cell_type": "code",
   "execution_count": 24,
   "metadata": {},
   "outputs": [],
   "source": [
    "train_dataset = MyDataset(x_train, y_train)\n",
    "train_loader = DataLoader(dataset=train_dataset, batch_size=batchsize, shuffle=True)\n",
    "\n",
    "val_dataset = MyDataset(x_val, y_val)\n",
    "val_loader = DataLoader(dataset=val_dataset, batch_size=batchsize, shuffle=True)"
   ]
  },
  {
   "cell_type": "code",
   "execution_count": 13,
   "metadata": {},
   "outputs": [
    {
     "data": {
      "text/plain": [
       "234"
      ]
     },
     "execution_count": 13,
     "metadata": {},
     "output_type": "execute_result"
    }
   ],
   "source": [
    "len(train_loader)"
   ]
  },
  {
   "cell_type": "code",
   "execution_count": 39,
   "metadata": {
    "id": "lLAbZminPFWn"
   },
   "outputs": [],
   "source": [
    "def eval_on_val_set(val_acc,val_loss,val_loader,val_dataset):\n",
    "\n",
    "    running_loss=0\n",
    "    running_acc=0\n",
    "    num_batches=0\n",
    "    model.eval()\n",
    "    for (data, targets) in val_loader:\n",
    "\n",
    "        data=data.to(device)\n",
    "        targets=targets.to(device)\n",
    "\n",
    "        scores = model(data) \n",
    "\n",
    "        loss = criterion(scores, targets)\n",
    "\n",
    "        running_loss += loss.detach().item()*data.size(0)\n",
    "        _, predictions = torch.max(scores.data, 1)\n",
    "        running_acc += (predictions == targets).sum().item()\n",
    "\n",
    "        num_batches += 1\n",
    "\n",
    "    lo =  running_loss/len(val_dataset)\n",
    "    acc = 100*running_acc/len(val_dataset)\n",
    "    \n",
    "    val_acc.append(acc)\n",
    "    val_loss.append(loss)\n",
    "    \n",
    "    print('val loss = {}  val accuracy = {}'.format(lo,acc))\n",
    "    \n",
    "    return val_acc,val_loss"
   ]
  },
  {
   "cell_type": "code",
   "execution_count": 41,
   "metadata": {
    "id": "MB5mLVOsBAWj"
   },
   "outputs": [],
   "source": [
    "model = myModel()"
   ]
  },
  {
   "cell_type": "code",
   "execution_count": 42,
   "metadata": {},
   "outputs": [],
   "source": [
    "model = model.to(device)"
   ]
  },
  {
   "cell_type": "code",
   "execution_count": 43,
   "metadata": {
    "id": "T7AcNJeRBhpD"
   },
   "outputs": [],
   "source": [
    "criterion = nn.CrossEntropyLoss()\n"
   ]
  },
  {
   "cell_type": "code",
   "execution_count": 44,
   "metadata": {
    "colab": {
     "base_uri": "https://localhost:8080/",
     "height": 545
    },
    "executionInfo": {
     "elapsed": 81504,
     "status": "ok",
     "timestamp": 1603117998793,
     "user": {
      "displayName": "Vignesh",
      "photoUrl": "",
      "userId": "16532613829729226628"
     },
     "user_tz": -480
    },
    "id": "PB8jzx1-BhsV",
    "outputId": "1b7e3a64-1cc9-4cd7-e53a-ae517fcded96"
   },
   "outputs": [
    {
     "name": "stdout",
     "output_type": "stream",
     "text": [
      "Epoch 0 : loss = 2.657688318885795  accuracy = 17.803638458251953\n",
      "val loss = 2.4957652384623725  val accuracy = 27.79783393501805\n",
      "Epoch 1 : loss = 2.4270234356084694  accuracy = 26.685392379760742\n",
      "Epoch 2 : loss = 2.2887495458923346  accuracy = 30.557783126831055\n",
      "Epoch 3 : loss = 2.148403067267343  accuracy = 35.55377197265625\n",
      "Epoch 4 : loss = 2.0244913206437234  accuracy = 39.80069351196289\n",
      "Epoch 5 : loss = 1.9440834954054105  accuracy = 41.90743637084961\n",
      "val loss = 1.8821188948788512  val accuracy = 42.29843561973526\n",
      "Epoch 6 : loss = 1.8787572246429562  accuracy = 43.82691192626953\n",
      "Epoch 7 : loss = 1.813048628895853  accuracy = 45.05751419067383\n",
      "Epoch 8 : loss = 1.7726387141731859  accuracy = 45.99384689331055\n",
      "Epoch 9 : loss = 1.7454328442908278  accuracy = 46.63589859008789\n",
      "Epoch 10 : loss = 1.7152223632959456  accuracy = 47.30470657348633\n",
      "val loss = 1.6970957925029897  val accuracy = 47.89410348977136\n",
      "Epoch 11 : loss = 1.6929082778636755  accuracy = 48.13402557373047\n",
      "Epoch 12 : loss = 1.6628717219784912  accuracy = 48.354732513427734\n",
      "Epoch 13 : loss = 1.6544252576006486  accuracy = 48.38148498535156\n",
      "Epoch 14 : loss = 1.6540228085699025  accuracy = 48.521934509277344\n",
      "Epoch 15 : loss = 1.6372732930224232  accuracy = 49.003475189208984\n",
      "val loss = 1.9913959448661758  val accuracy = 42.96028880866426\n",
      "Epoch 16 : loss = 1.6228171667675082  accuracy = 48.91653060913086\n",
      "Epoch 17 : loss = 1.6203568778680952  accuracy = 49.1104850769043\n",
      "Epoch 18 : loss = 1.6146504999546523  accuracy = 49.43151092529297\n",
      "Epoch 19 : loss = 1.6169732529699898  accuracy = 49.317813873291016\n",
      "Epoch 20 : loss = 1.6038610653930836  accuracy = 49.612091064453125\n",
      "val loss = 1.5566144716868762  val accuracy = 50.481347773766544\n",
      "Epoch 21 : loss = 1.6024810130931657  accuracy = 49.49839401245117\n",
      "Epoch 22 : loss = 1.602194358921102  accuracy = 49.50508117675781\n",
      "Epoch 23 : loss = 1.6002197159427318  accuracy = 49.953182220458984\n",
      "Epoch 24 : loss = 1.5956126190303417  accuracy = 49.8729248046875\n"
     ]
    }
   ],
   "source": [
    "losses=[]\n",
    "accuracy=[]\n",
    "\n",
    "val_loss = []\n",
    "val_acc = []\n",
    "\n",
    "for epoch in range(25):\n",
    "    model.train()\n",
    "    running_loss=0\n",
    "    running_acc=0\n",
    "    num_batches=0\n",
    "    \n",
    "    # divide the learning rate by 2 at epoch 10, 14 and 18\n",
    "    if epoch%4==0 and epoch!=0:\n",
    "        learning_rate = learning_rate / 2\n",
    "\n",
    "   # create a new optimizer at the beginning of each epoch: give the current learning rate.   \n",
    "    optimizer=torch.optim.SGD( model.parameters() , lr=learning_rate )\n",
    "    \n",
    "    for count, (data, targets) in enumerate(train_loader):\n",
    "        num_batches += 1\n",
    "        optimizer.zero_grad()\n",
    "        data.requires_grad_()\n",
    "        \n",
    "        data = data.to(device)\n",
    "        targets = targets.to(device)\n",
    "        \n",
    "        scores = model(data)\n",
    "        \n",
    "        loss = criterion(scores, targets)\n",
    "        running_loss += loss.detach().item()*data.size(0)\n",
    "        \n",
    "        loss.backward()\n",
    "        optimizer.step()\n",
    "        \n",
    "        _, predictions = scores.max(1)\n",
    "        running_acc += (predictions == targets).float().sum()\n",
    "    \n",
    "    lo = running_loss/len(train_dataset)\n",
    "    acc = 100*running_acc/len(train_dataset)\n",
    "    losses.append(lo)\n",
    "    accuracy.append(acc)\n",
    "    print('Epoch {} : loss = {}  accuracy = {}'.format(epoch,lo,acc))\n",
    "    \n",
    "    if epoch%5==0:\n",
    "        val_acc,val_loss = eval_on_val_set(val_acc,val_loss,val_loader,val_dataset)"
   ]
  },
  {
   "cell_type": "code",
   "execution_count": null,
   "metadata": {
    "colab": {
     "base_uri": "https://localhost:8080/",
     "height": 313
    },
    "executionInfo": {
     "elapsed": 1012,
     "status": "ok",
     "timestamp": 1603118027130,
     "user": {
      "displayName": "Vignesh",
      "photoUrl": "",
      "userId": "16532613829729226628"
     },
     "user_tz": -480
    },
    "id": "1BxxRzvQBiJ0",
    "outputId": "8892706c-113f-4694-b4fb-450b92f9b559"
   },
   "outputs": [],
   "source": [
    "plt.plot(losses,'-o')\n",
    "plt.title('Loss per epoch for 30 epochs')\n",
    "plt.ylabel('Loss')\n",
    "plt.xlabel('No. of epochs')"
   ]
  },
  {
   "cell_type": "code",
   "execution_count": null,
   "metadata": {
    "colab": {
     "base_uri": "https://localhost:8080/",
     "height": 313
    },
    "executionInfo": {
     "elapsed": 1029,
     "status": "ok",
     "timestamp": 1603118021112,
     "user": {
      "displayName": "Vignesh",
      "photoUrl": "",
      "userId": "16532613829729226628"
     },
     "user_tz": -480
    },
    "id": "GQ8ZyHXUBwLF",
    "outputId": "15751db0-af86-4a87-a61e-d26354e678a5"
   },
   "outputs": [],
   "source": [
    "plt.plot(accuracy,'-o')\n",
    "plt.title('Accuracy per epoch for 30 epochs')\n",
    "plt.ylabel('Accuracy')\n",
    "plt.xlabel('No. of epochs')"
   ]
  },
  {
   "cell_type": "code",
   "execution_count": null,
   "metadata": {
    "colab": {
     "base_uri": "https://localhost:8080/",
     "height": 35
    },
    "executionInfo": {
     "elapsed": 1086,
     "status": "ok",
     "timestamp": 1603118049591,
     "user": {
      "displayName": "Vignesh",
      "photoUrl": "",
      "userId": "16532613829729226628"
     },
     "user_tz": -480
    },
    "id": "axOHD5AIjEX_",
    "outputId": "4e5d9ddf-0037-44b9-9dff-756a9902d0de"
   },
   "outputs": [],
   "source": [
    "#eval_on_val_set()"
   ]
  },
  {
   "cell_type": "code",
   "execution_count": null,
   "metadata": {
    "id": "TSlfLW7CedTf"
   },
   "outputs": [],
   "source": [
    "import pickle as pk\n",
    "dest_path = \"/content/drive/My Drive/cv_project/model.pkl\"\n",
    "#model = myModel()\n",
    "pk.dump(model.to('cpu'),open(dest_path,'wb'))"
   ]
  }
 ],
 "metadata": {
  "accelerator": "GPU",
  "colab": {
   "authorship_tag": "ABX9TyOUlR/KHoZApZiXVPDaiOy6",
   "collapsed_sections": [],
   "name": "myModel_GenderAndAgeClassification_CNN_Pytorch.ipynb",
   "provenance": []
  },
  "kernelspec": {
   "display_name": "Pytorch",
   "language": "python",
   "name": "pytorch"
  },
  "language_info": {
   "codemirror_mode": {
    "name": "ipython",
    "version": 3
   },
   "file_extension": ".py",
   "mimetype": "text/x-python",
   "name": "python",
   "nbconvert_exporter": "python",
   "pygments_lexer": "ipython3",
   "version": "3.7.8"
  }
 },
 "nbformat": 4,
 "nbformat_minor": 1
}

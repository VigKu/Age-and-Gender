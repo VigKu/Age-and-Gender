{
 "cells": [
  {
   "cell_type": "code",
   "execution_count": 1,
   "metadata": {
    "id": "XNmyOjGa_eoa"
   },
   "outputs": [],
   "source": [
    "import sys,os\n",
    "#import pandas as pd\n",
    "import numpy as np\n",
    "import matplotlib as mpl\n",
    "import matplotlib.pyplot as plt\n",
    "import torch.utils\n",
    "#import cv2"
   ]
  },
  {
   "cell_type": "code",
   "execution_count": 2,
   "metadata": {
    "id": "A_cy_wzgANsg"
   },
   "outputs": [],
   "source": [
    "import torch\n",
    "from torch.utils.data import Dataset, DataLoader\n",
    "import torchvision\n",
    "import torchvision.models as models\n",
    "import torchvision.transforms as transforms\n",
    "from PIL import Image"
   ]
  },
  {
   "cell_type": "code",
   "execution_count": 3,
   "metadata": {
    "id": "SfPO47g8C2Cs"
   },
   "outputs": [],
   "source": [
    "import torch.nn as nn\n",
    "import torch.nn.functional as F\n",
    "import torch.optim as optim\n",
    "from torch.optim import lr_scheduler\n",
    "from random import randint"
   ]
  },
  {
   "cell_type": "code",
   "execution_count": 4,
   "metadata": {
    "colab": {
     "base_uri": "https://localhost:8080/",
     "height": 35
    },
    "executionInfo": {
     "elapsed": 972,
     "status": "ok",
     "timestamp": 1603117788615,
     "user": {
      "displayName": "Vignesh",
      "photoUrl": "",
      "userId": "16532613829729226628"
     },
     "user_tz": -480
    },
    "id": "AX9HYCIYAqBG",
    "outputId": "909663d9-fda1-49d8-859c-da1c21a23319"
   },
   "outputs": [
    {
     "name": "stdout",
     "output_type": "stream",
     "text": [
      "cuda\n"
     ]
    }
   ],
   "source": [
    "device = torch.device(\"cuda\")\n",
    "#device = torch.device(\"cpu\")\n",
    "print(device)"
   ]
  },
  {
   "cell_type": "code",
   "execution_count": 5,
   "metadata": {
    "id": "xXMmQb2bANvC"
   },
   "outputs": [],
   "source": [
    "path = 'C:/Users/vigne/Desktop/age_gender_folder'\n"
   ]
  },
  {
   "cell_type": "code",
   "execution_count": 6,
   "metadata": {
    "id": "30IGPIoaAtIG"
   },
   "outputs": [],
   "source": [
    "x_train = np.load(path+'/x_train2.npy')\n",
    "y_train = np.load(path+'/y_train2.npy')\n",
    "x_val = np.load(path+'/x_val2.npy')\n",
    "y_val = np.load(path+'/y_val2.npy')"
   ]
  },
  {
   "cell_type": "code",
   "execution_count": null,
   "metadata": {
    "colab": {
     "base_uri": "https://localhost:8080/",
     "height": 35
    },
    "executionInfo": {
     "elapsed": 5302,
     "status": "ok",
     "timestamp": 1603117795927,
     "user": {
      "displayName": "Vignesh",
      "photoUrl": "",
      "userId": "16532613829729226628"
     },
     "user_tz": -480
    },
    "id": "utbQPLulAtLe",
    "outputId": "17946a85-0502-4064-80c4-7e834335041f"
   },
   "outputs": [],
   "source": [
    "x_train.shape"
   ]
  },
  {
   "cell_type": "code",
   "execution_count": null,
   "metadata": {
    "colab": {
     "base_uri": "https://localhost:8080/",
     "height": 35
    },
    "executionInfo": {
     "elapsed": 4558,
     "status": "ok",
     "timestamp": 1603117795927,
     "user": {
      "displayName": "Vignesh",
      "photoUrl": "",
      "userId": "16532613829729226628"
     },
     "user_tz": -480
    },
    "id": "PZgaYScGcUWI",
    "outputId": "8529fecb-20c2-43ca-90a0-c5d377f09ebd"
   },
   "outputs": [],
   "source": [
    "x_val.shape"
   ]
  },
  {
   "cell_type": "code",
   "execution_count": 7,
   "metadata": {},
   "outputs": [
    {
     "name": "stdout",
     "output_type": "stream",
     "text": [
      "(21334, 2)\n"
     ]
    }
   ],
   "source": [
    "print(y_train.shape)"
   ]
  },
  {
   "cell_type": "code",
   "execution_count": 8,
   "metadata": {},
   "outputs": [
    {
     "name": "stdout",
     "output_type": "stream",
     "text": [
      "(21334,)\n"
     ]
    }
   ],
   "source": [
    "y_train_age = y_train[:,0]\n",
    "print(y_train_age.shape)"
   ]
  },
  {
   "cell_type": "code",
   "execution_count": 10,
   "metadata": {},
   "outputs": [],
   "source": [
    "y_val_age = y_val[:,0]"
   ]
  },
  {
   "cell_type": "code",
   "execution_count": 12,
   "metadata": {},
   "outputs": [],
   "source": [
    "#size = 224\n",
    "transform = transforms.Compose(\n",
    "    [transforms.ToPILImage(),\n",
    "     #transforms.Resize((size,size)),\n",
    "     transforms.RandomRotation(degrees = 20),\n",
    "     transforms.RandomHorizontalFlip(),\n",
    "     transforms.ToTensor(),\n",
    "     transforms.Normalize((0.5),(0.5))\n",
    "])\n",
    "\n",
    "class MyDataset(Dataset):\n",
    "    def __init__(self, data, target, transform=transform):\n",
    "        self.data = torch.from_numpy(data).float()\n",
    "        self.target = torch.from_numpy(target).float().unsqueeze(1)\n",
    "        self.transform = transform\n",
    "     \n",
    "    def __len__(self):\n",
    "        return len(self.target)\n",
    "    \n",
    "    def __getitem__(self, index):\n",
    "        \n",
    "        return self.data[index], self.target[index]\n",
    "        "
   ]
  },
  {
   "cell_type": "code",
   "execution_count": 14,
   "metadata": {
    "id": "ADhC292WCJ3y"
   },
   "outputs": [],
   "source": [
    "class myAgeModel(nn.Module):\n",
    "    def __init__(self):\n",
    "        super(myAgeModel , self).__init__()\n",
    "     \n",
    "        self.conv1 = nn.Conv2d(1,  16,  kernel_size=3 )\n",
    "        self.pool1  = nn.MaxPool2d(2,2)\n",
    "        self.batch1 = nn.BatchNorm2d(16)\n",
    "\n",
    "        self.conv2 = nn.Conv2d(16,  32, kernel_size=3 )\n",
    "        self.pool2  = nn.MaxPool2d(2,2)\n",
    "        self.batch2 = nn.BatchNorm2d(32)\n",
    "      \n",
    "        self.conv3 = nn.Conv2d(32, 64, kernel_size=3 )\n",
    "        self.pool3  = nn.MaxPool2d(2,2)\n",
    "        self.batch3 = nn.BatchNorm2d(64)\n",
    "    \n",
    "        self.conv4 = nn.Conv2d(64, 128, kernel_size=3 )\n",
    "        self.pool4  = nn.MaxPool2d(2,2)\n",
    "        self.batch4 = nn.BatchNorm2d(128)\n",
    "\n",
    "        self.linear1 = nn.Linear(128*1*1, 64)\n",
    "        self.linear2 = nn.Linear(64,32)\n",
    "        self.linear3 = nn.Linear(32,1)\n",
    "        self.dropout1 = nn.Dropout(p=0.2)\n",
    "        self.dropout2 = nn.Dropout(p=0.4)\n",
    "        \n",
    "    \n",
    "    def forward(self, x):\n",
    "\n",
    "        x = self.conv1(x)\n",
    "        x = F.relu(x)\n",
    "        x = self.batch1(x)\n",
    "        x = self.pool1(x)\n",
    "    \n",
    "        x = self.conv2(x)\n",
    "        x = F.relu(x)\n",
    "        x = self.batch2(x)\n",
    "        x = self.pool2(x)\n",
    "    \n",
    "        x = self.conv3(x)\n",
    "        x = F.relu(x)\n",
    "        x = self.batch3(x)\n",
    "        x = self.pool3(x)\n",
    "    \n",
    "        x = self.conv4(x)\n",
    "        x = F.relu(x)\n",
    "        x = self.batch4(x)\n",
    "        x = self.pool4(x)\n",
    "\n",
    "        x = x.view(-1, 128)\n",
    "\n",
    "        x = self.linear1(x)\n",
    "        x = F.relu(x)\n",
    "        x = self.dropout1(x)\n",
    "        x = self.linear2(x)\n",
    "        x = F.relu(x)\n",
    "        x = self.dropout2(x)\n",
    "        x = self.linear3(x)\n",
    "        \n",
    "        return x"
   ]
  },
  {
   "cell_type": "code",
   "execution_count": 13,
   "metadata": {},
   "outputs": [],
   "source": [
    "batchsize = 100\n",
    "in_channel = 1\n",
    "num_classes = 16\n",
    "learning_rate = 0.01\n",
    "num_epochs = 30"
   ]
  },
  {
   "cell_type": "code",
   "execution_count": 15,
   "metadata": {},
   "outputs": [],
   "source": [
    "train_dataset = MyDataset(x_train, y_train_age)\n",
    "train_loader = DataLoader(dataset=train_dataset, batch_size=batchsize, shuffle=True)\n",
    "\n",
    "val_dataset = MyDataset(x_val, y_val_age)\n",
    "val_loader = DataLoader(dataset=val_dataset, batch_size=batchsize, shuffle=True)"
   ]
  },
  {
   "cell_type": "code",
   "execution_count": 16,
   "metadata": {},
   "outputs": [
    {
     "data": {
      "text/plain": [
       "214"
      ]
     },
     "execution_count": 16,
     "metadata": {},
     "output_type": "execute_result"
    }
   ],
   "source": [
    "len(train_loader)"
   ]
  },
  {
   "cell_type": "code",
   "execution_count": 17,
   "metadata": {
    "id": "lLAbZminPFWn"
   },
   "outputs": [],
   "source": [
    "def eval_on_val_set(val_acc,val_loss,val_loader,val_dataset):\n",
    "\n",
    "    running_loss=0\n",
    "    running_acc=0\n",
    "    num_batches=0\n",
    "    model.eval()\n",
    "    for (data, targets) in val_loader:\n",
    "\n",
    "        data=data.to(device)\n",
    "        targets=targets.to(device)\n",
    "\n",
    "        scores = model(data) \n",
    "\n",
    "        loss = criterion(scores, targets)\n",
    "\n",
    "        running_loss += loss.detach().item()*data.size(0)\n",
    "        _, predictions = torch.max(scores.data, 1)\n",
    "        running_acc += (predictions == targets).sum().item()\n",
    "\n",
    "        num_batches += 1\n",
    "\n",
    "    lo =  running_loss/len(val_dataset)\n",
    "    acc = 100*running_acc/len(val_dataset)\n",
    "    \n",
    "    val_acc.append(acc)\n",
    "    val_loss.append(loss)\n",
    "    \n",
    "    print('val loss = {}  val accuracy = {}'.format(lo,acc))\n",
    "    \n",
    "    return val_acc,val_loss"
   ]
  },
  {
   "cell_type": "code",
   "execution_count": 23,
   "metadata": {},
   "outputs": [],
   "source": [
    "def eval_on_val_set2(val_acc,val_loss,val_loader,val_dataset):\n",
    "\n",
    "    running_loss=0\n",
    "    running_acc=0\n",
    "    num_batches=0\n",
    "    model.eval()\n",
    "    for (data, targets) in val_loader:\n",
    "\n",
    "        data=data.to(device)\n",
    "        targets=targets.to(device)\n",
    "\n",
    "        scores = model(data) \n",
    "\n",
    "        loss = criterion(scores, targets)\n",
    "\n",
    "        running_loss += loss.detach().item()*data.size(0)\n",
    "        _, predictions = torch.max(scores.data, 1)\n",
    "        running_acc += (predictions == targets).sum().item()\n",
    "\n",
    "        num_batches += 1\n",
    "        break\n",
    "\n",
    "    #lo =  running_loss/len(val_dataset)\n",
    "    #acc = 100*running_acc/len(val_dataset)\n",
    "    \n",
    "    #val_acc.append(acc)\n",
    "    #val_loss.append(loss)\n",
    "    \n",
    "    #print('val loss = {}  val accuracy = {}'.format(lo,acc))\n",
    "    \n",
    "    #return val_acc,val_loss\n",
    "    return scores,targets"
   ]
  },
  {
   "cell_type": "code",
   "execution_count": 18,
   "metadata": {
    "id": "MB5mLVOsBAWj"
   },
   "outputs": [],
   "source": [
    "model = myAgeModel()"
   ]
  },
  {
   "cell_type": "code",
   "execution_count": 19,
   "metadata": {},
   "outputs": [],
   "source": [
    "model = model.to(device)"
   ]
  },
  {
   "cell_type": "code",
   "execution_count": 20,
   "metadata": {
    "id": "T7AcNJeRBhpD"
   },
   "outputs": [],
   "source": [
    "criterion = nn.MSELoss()\n"
   ]
  },
  {
   "cell_type": "code",
   "execution_count": 21,
   "metadata": {
    "colab": {
     "base_uri": "https://localhost:8080/",
     "height": 545
    },
    "executionInfo": {
     "elapsed": 81504,
     "status": "ok",
     "timestamp": 1603117998793,
     "user": {
      "displayName": "Vignesh",
      "photoUrl": "",
      "userId": "16532613829729226628"
     },
     "user_tz": -480
    },
    "id": "PB8jzx1-BhsV",
    "outputId": "1b7e3a64-1cc9-4cd7-e53a-ae517fcded96"
   },
   "outputs": [
    {
     "name": "stdout",
     "output_type": "stream",
     "text": [
      "Epoch 0 : loss = 454.50401896649026  accuracy = 0.0\n",
      "Epoch 1 : loss = 428.56024284502263  accuracy = 0.0\n",
      "Epoch 2 : loss = 443.90842333963775  accuracy = 0.0\n",
      "Epoch 3 : loss = 292.1005485222111  accuracy = 0.0\n",
      "Epoch 4 : loss = 194.3032381281786  accuracy = 0.0\n",
      "Epoch 5 : loss = 192.27664485826614  accuracy = 0.0\n",
      "Epoch 6 : loss = 173.47584162342233  accuracy = 0.0\n",
      "Epoch 7 : loss = 164.7087404124681  accuracy = 0.0\n",
      "Epoch 8 : loss = 139.89829343769134  accuracy = 0.0\n",
      "Epoch 9 : loss = 130.5506644666927  accuracy = 0.0\n",
      "Epoch 10 : loss = 126.65081208986228  accuracy = 0.0\n",
      "Epoch 11 : loss = 126.21487842165364  accuracy = 0.0\n",
      "Epoch 12 : loss = 114.43286740832401  accuracy = 0.0\n",
      "Epoch 13 : loss = 109.73752123799713  accuracy = 0.0\n",
      "Epoch 14 : loss = 107.00159313158633  accuracy = 0.0\n",
      "Epoch 15 : loss = 104.796107448722  accuracy = 0.0\n",
      "Epoch 16 : loss = 98.61542458380913  accuracy = 0.0\n",
      "Epoch 17 : loss = 98.22908305469176  accuracy = 0.0\n",
      "Epoch 18 : loss = 96.66374542559613  accuracy = 0.0\n",
      "Epoch 19 : loss = 94.42606720746016  accuracy = 0.0\n",
      "Epoch 20 : loss = 92.33911391297846  accuracy = 0.0\n",
      "Epoch 21 : loss = 93.69764293635966  accuracy = 0.0\n",
      "Epoch 22 : loss = 90.1821249023735  accuracy = 0.0\n",
      "Epoch 23 : loss = 91.64033647771292  accuracy = 0.0\n",
      "Epoch 24 : loss = 89.56726313678888  accuracy = 0.0\n",
      "Epoch 25 : loss = 89.21146605890291  accuracy = 0.0\n",
      "Epoch 26 : loss = 88.31615889511616  accuracy = 0.0\n",
      "Epoch 27 : loss = 90.0030446927371  accuracy = 0.0\n",
      "Epoch 28 : loss = 87.901945595309  accuracy = 0.0\n",
      "Epoch 29 : loss = 87.035495037459  accuracy = 0.0\n",
      "Epoch 30 : loss = 88.0284769893799  accuracy = 0.0\n",
      "Epoch 31 : loss = 86.23250544537217  accuracy = 0.0\n",
      "Epoch 32 : loss = 87.27652895970253  accuracy = 0.0\n",
      "Epoch 33 : loss = 85.28861104969323  accuracy = 0.0\n",
      "Epoch 34 : loss = 87.30761203209775  accuracy = 0.0\n",
      "Epoch 35 : loss = 85.55222920852022  accuracy = 0.0\n",
      "Epoch 36 : loss = 87.03175353717813  accuracy = 0.0\n",
      "Epoch 37 : loss = 86.61128578318353  accuracy = 0.0\n",
      "Epoch 38 : loss = 85.52123958208215  accuracy = 0.0\n",
      "Epoch 39 : loss = 83.96660068219074  accuracy = 0.0\n"
     ]
    }
   ],
   "source": [
    "losses=[]\n",
    "accuracy=[]\n",
    "\n",
    "val_loss = []\n",
    "val_acc = []\n",
    "\n",
    "for epoch in range(40):\n",
    "    model.train()\n",
    "    running_loss=0\n",
    "    running_acc=0\n",
    "    num_batches=0\n",
    "    \n",
    "    # divide the learning rate by 2 at epoch 10, 14 and 18\n",
    "    if epoch%4==0 and epoch!=0:\n",
    "        learning_rate = learning_rate / 2\n",
    "\n",
    "   # create a new optimizer at the beginning of each epoch: give the current learning rate.   \n",
    "    optimizer=torch.optim.RMSprop( model.parameters() , lr=learning_rate )\n",
    "    \n",
    "    for count, (data, targets) in enumerate(train_loader):\n",
    "        num_batches += 1\n",
    "        optimizer.zero_grad()\n",
    "        data.requires_grad_()\n",
    "        \n",
    "        data = data.to(device)\n",
    "        targets = targets.to(device)\n",
    "        \n",
    "        scores = model(data)\n",
    "        \n",
    "        loss = criterion(scores, targets)\n",
    "        running_loss += loss.detach().item()*data.size(0)\n",
    "        \n",
    "        loss.backward()\n",
    "        optimizer.step()\n",
    "        \n",
    "        _, predictions = scores.max(1)\n",
    "        running_acc += (predictions == targets).float().sum()\n",
    "    \n",
    "    lo = running_loss/len(train_dataset)\n",
    "    acc = 100*running_acc/len(train_dataset)\n",
    "    losses.append(lo)\n",
    "    accuracy.append(acc)\n",
    "    print('Epoch {} : loss = {}  accuracy = {}'.format(epoch,lo,acc))\n",
    "    \n",
    "    #if epoch%5==0:\n",
    "    #    val_acc,val_loss = eval_on_val_set(val_acc,val_loss,val_loader,val_dataset)"
   ]
  },
  {
   "cell_type": "code",
   "execution_count": null,
   "metadata": {
    "colab": {
     "base_uri": "https://localhost:8080/",
     "height": 313
    },
    "executionInfo": {
     "elapsed": 1012,
     "status": "ok",
     "timestamp": 1603118027130,
     "user": {
      "displayName": "Vignesh",
      "photoUrl": "",
      "userId": "16532613829729226628"
     },
     "user_tz": -480
    },
    "id": "1BxxRzvQBiJ0",
    "outputId": "8892706c-113f-4694-b4fb-450b92f9b559"
   },
   "outputs": [],
   "source": [
    "plt.plot(losses,'-o')\n",
    "plt.title('Loss per epoch for 30 epochs')\n",
    "plt.ylabel('Loss')\n",
    "plt.xlabel('No. of epochs')"
   ]
  },
  {
   "cell_type": "code",
   "execution_count": null,
   "metadata": {},
   "outputs": [],
   "source": []
  },
  {
   "cell_type": "code",
   "execution_count": 27,
   "metadata": {
    "colab": {
     "base_uri": "https://localhost:8080/",
     "height": 35
    },
    "executionInfo": {
     "elapsed": 1086,
     "status": "ok",
     "timestamp": 1603118049591,
     "user": {
      "displayName": "Vignesh",
      "photoUrl": "",
      "userId": "16532613829729226628"
     },
     "user_tz": -480
    },
    "id": "axOHD5AIjEX_",
    "outputId": "4e5d9ddf-0037-44b9-9dff-756a9902d0de"
   },
   "outputs": [],
   "source": [
    "scorestest,targetstest = eval_on_val_set2(val_acc,val_loss,val_loader,val_dataset)"
   ]
  },
  {
   "cell_type": "code",
   "execution_count": 35,
   "metadata": {},
   "outputs": [
    {
     "data": {
      "text/plain": [
       "tensor([[31., 27., 20., 31.,  6., 51.,  3., 13., 21., 39., 82., 26., 30.,  3.,\n",
       "         25., 23., 50., 21., 43., 17., 22., 26., 43., 60., 34., 75., 19.,  5.,\n",
       "         29., 27., 23., 26., 25., 26.,  7., 43., 52., 59., 25., 29., 29., 21.,\n",
       "         34., 35.,  3., 25., 40., 20.,  4., 56., 39., 29., 25., 35.,  9., 25.,\n",
       "         26., 38., 47., 33., 21., 30., 20., 32., 16., 33., 28., 75., 31., 26.,\n",
       "         46., 23., 44.,  4., 28., 27., 25., 10., 23., 22., 23., 63., 59., 25.,\n",
       "         26., 15., 78., 63., 24.,  6., 55., 21., 24., 25., 30., 34., 12., 58.,\n",
       "         36., 66.]], device='cuda:0', grad_fn=<RoundBackward>)"
      ]
     },
     "execution_count": 35,
     "metadata": {},
     "output_type": "execute_result"
    }
   ],
   "source": [
    "scorestest.T.round()"
   ]
  },
  {
   "cell_type": "code",
   "execution_count": 33,
   "metadata": {},
   "outputs": [
    {
     "data": {
      "text/plain": [
       "tensor([[ 35.,  27.,  18.,  36.,   6.,  63.,   1.,   9.,  30.,  49., 100.,  25.,\n",
       "          35.,   1.,  24.,  22.,  45.,  18.,  61.,  15.,  24.,  33.,  35.,  60.,\n",
       "          26.,  78.,  12.,   1.,  23.,  18.,  25.,  35.,  23.,  35.,  14.,  54.,\n",
       "          45.,  61.,  28.,  26.,  34.,  28.,  40.,  32.,   1.,  30.,  49.,  25.,\n",
       "           1.,  60.,  45.,  36.,  24.,  40.,  13.,  28.,  18.,  52.,  34.,  36.,\n",
       "          27.,  34.,  26.,  33.,   8.,  34.,  24.,  75.,  26.,  24.,  36.,  63.,\n",
       "          26.,   4.,  35.,  22.,  21.,   8.,  26.,  23.,  30.,  66.,  80.,  16.,\n",
       "          20.,  23.,  75.,  55.,  28.,   9.,  59.,  22.,  26.,  40.,  25.,  52.,\n",
       "           9.,  60.,  29.,  67.]], device='cuda:0')"
      ]
     },
     "execution_count": 33,
     "metadata": {},
     "output_type": "execute_result"
    }
   ],
   "source": [
    "targetstest.T"
   ]
  },
  {
   "cell_type": "code",
   "execution_count": 39,
   "metadata": {},
   "outputs": [
    {
     "name": "stdout",
     "output_type": "stream",
     "text": [
      "tensor([43.0248], device='cuda:0', grad_fn=<SelectBackward>)\n",
      "tensor([54.], device='cuda:0')\n"
     ]
    }
   ],
   "source": [
    "print(scorestest[35])\n",
    "print(targetstest[35])"
   ]
  },
  {
   "cell_type": "code",
   "execution_count": null,
   "metadata": {},
   "outputs": [],
   "source": []
  },
  {
   "cell_type": "code",
   "execution_count": null,
   "metadata": {},
   "outputs": [],
   "source": []
  },
  {
   "cell_type": "code",
   "execution_count": null,
   "metadata": {
    "id": "TSlfLW7CedTf"
   },
   "outputs": [],
   "source": [
    "import pickle as pk\n",
    "dest_path = \"/content/drive/My Drive/cv_project/model.pkl\"\n",
    "#model = myModel()\n",
    "pk.dump(model.to('cpu'),open(dest_path,'wb'))"
   ]
  }
 ],
 "metadata": {
  "accelerator": "GPU",
  "colab": {
   "authorship_tag": "ABX9TyOUlR/KHoZApZiXVPDaiOy6",
   "collapsed_sections": [],
   "name": "myModel_GenderAndAgeClassification_CNN_Pytorch.ipynb",
   "provenance": []
  },
  "kernelspec": {
   "display_name": "Pytorch",
   "language": "python",
   "name": "pytorch"
  },
  "language_info": {
   "codemirror_mode": {
    "name": "ipython",
    "version": 3
   },
   "file_extension": ".py",
   "mimetype": "text/x-python",
   "name": "python",
   "nbconvert_exporter": "python",
   "pygments_lexer": "ipython3",
   "version": "3.7.8"
  }
 },
 "nbformat": 4,
 "nbformat_minor": 1
}

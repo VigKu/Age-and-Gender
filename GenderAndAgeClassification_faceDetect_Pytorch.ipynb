{
 "cells": [
  {
   "cell_type": "code",
   "execution_count": null,
   "metadata": {
    "colab": {
     "base_uri": "https://localhost:8080/",
     "height": 35
    },
    "id": "AInsRvmZbG5y",
    "outputId": "0c6402f7-29b3-49b3-98d4-b331aef3a609"
   },
   "outputs": [],
   "source": [
    "from google.colab import drive\n",
    "drive.mount('/content/drive')"
   ]
  },
  {
   "cell_type": "code",
   "execution_count": 1,
   "metadata": {},
   "outputs": [
    {
     "name": "stdout",
     "output_type": "stream",
     "text": [
      "Requirement already satisfied: opencv-python in c:\\users\\vigne\\anaconda3\\envs\\pytorch\\lib\\site-packages (4.4.0.44)\n",
      "Requirement already satisfied: numpy>=1.14.5 in c:\\users\\vigne\\anaconda3\\envs\\pytorch\\lib\\site-packages (from opencv-python) (1.19.1)\n"
     ]
    }
   ],
   "source": [
    "!pip install opencv-python"
   ]
  },
  {
   "cell_type": "code",
   "execution_count": 1,
   "metadata": {
    "id": "qISRfg1mbVRQ"
   },
   "outputs": [],
   "source": [
    "import sys,os\n",
    "import pandas as pd\n",
    "import numpy as np\n",
    "import matplotlib as mpl\n",
    "import matplotlib.pyplot as plt\n",
    "import torch.utils\n",
    "import cv2"
   ]
  },
  {
   "cell_type": "code",
   "execution_count": 2,
   "metadata": {
    "id": "L49Gvm3MbVUx"
   },
   "outputs": [],
   "source": [
    "import torch\n",
    "from torch.utils.data import Dataset, DataLoader\n",
    "import torchvision\n",
    "import torchvision.models as models\n",
    "import torchvision.transforms as transforms\n",
    "from PIL import Image\n",
    "import torch.nn as nn\n",
    "import torch.nn.functional as F\n",
    "import torch.optim as optim\n",
    "from torch.optim import lr_scheduler\n",
    "from random import randint"
   ]
  },
  {
   "cell_type": "code",
   "execution_count": 3,
   "metadata": {
    "id": "Chghq4vBbVX0"
   },
   "outputs": [],
   "source": [
    "mean = np.load(r\"C:\\Users\\vigne\\anaconda3\\envs\\Pytorch\\age_gender_folder\\mean.npy\")\n",
    "std = np.load(r\"C:\\Users\\vigne\\anaconda3\\envs\\Pytorch\\age_gender_folder\\std.npy\")"
   ]
  },
  {
   "cell_type": "code",
   "execution_count": 4,
   "metadata": {
    "id": "VbQVsJTubVaq"
   },
   "outputs": [],
   "source": [
    "mean=torch.tensor(mean)\n",
    "std=torch.tensor(std)"
   ]
  },
  {
   "cell_type": "code",
   "execution_count": 5,
   "metadata": {},
   "outputs": [
    {
     "data": {
      "text/plain": [
       "0.49325109310851223"
      ]
     },
     "execution_count": 5,
     "metadata": {},
     "output_type": "execute_result"
    }
   ],
   "source": [
    "mean.item()"
   ]
  },
  {
   "cell_type": "code",
   "execution_count": 6,
   "metadata": {
    "id": "NIOEduZ1bVdM"
   },
   "outputs": [],
   "source": [
    "class myModel(nn.Module):\n",
    "    def __init__(self):\n",
    "        super(myModel , self).__init__()\n",
    "     \n",
    "        self.conv1 = nn.Conv2d(1,  32,  kernel_size=3 )\n",
    "        #self.pool1  = nn.MaxPool2d(2,2)\n",
    "\n",
    "        self.conv2 = nn.Conv2d(32,  64, kernel_size=3 )\n",
    "        self.pool2  = nn.MaxPool2d(2,2)\n",
    "      \n",
    "        self.conv3 = nn.Conv2d(64, 32, kernel_size=3 )\n",
    "        self.pool3  = nn.MaxPool2d(2,2)\n",
    "\n",
    "        self.linear1 = nn.Linear(3200, 64)\n",
    "        self.linear2 = nn.Linear(64,16)\n",
    "        #self.linear3 = nn.Linear(64,16)\n",
    "        self.dropout = nn.Dropout(p=0.4)\n",
    "        \n",
    "    def forward(self, x):\n",
    "\n",
    "        x = self.conv1(x)\n",
    "        x = F.relu(x)\n",
    "        x = self.conv2(x)\n",
    "        x = F.relu(x)\n",
    "        x = self.pool2(x)\n",
    "\n",
    "        x = self.conv3(x)\n",
    "        x = F.relu(x)\n",
    "        x = self.pool3(x)\n",
    "\n",
    "        x = x.view(-1, 3200)\n",
    "\n",
    "        x = self.linear1(x)\n",
    "        x = F.relu(x)\n",
    "        x = self.dropout(x)\n",
    "        x = self.linear2(x)\n",
    "        #x = F.relu(x)\n",
    " \n",
    "        return x"
   ]
  },
  {
   "cell_type": "code",
   "execution_count": 7,
   "metadata": {
    "colab": {
     "base_uri": "https://localhost:8080/",
     "height": 35
    },
    "id": "AXamRWikbVfs",
    "outputId": "c2470760-bae9-46db-b6a6-ca3c6bd7dddb"
   },
   "outputs": [],
   "source": [
    "import pickle as pk\n",
    "dest_path = r\"C:\\Users\\vigne\\anaconda3\\envs\\Pytorch\\age_gender_folder\\model.pkl\"\n",
    "model = myModel()\n",
    "model = pk.load(open(dest_path,'rb'))"
   ]
  },
  {
   "cell_type": "code",
   "execution_count": 8,
   "metadata": {
    "id": "yzu_E9FXbVh7"
   },
   "outputs": [],
   "source": [
    "# Import face detector algorithm\n",
    "face_detector = cv2.CascadeClassifier(r\"C:\\Users\\vigne\\anaconda3\\envs\\Pytorch\\age_gender_folder\\haarcascade_frontalface_default.xml\")"
   ]
  },
  {
   "cell_type": "code",
   "execution_count": 9,
   "metadata": {
    "id": "LwR2eEAYbVkR"
   },
   "outputs": [],
   "source": [
    "    '''\n",
    "# 16 classes\n",
    "# MALE = 0\n",
    "# 0: (0 – 2)\n",
    "# 1: (4 – 6)\n",
    "# 2: (8 – 12)\n",
    "# 3: (15 – 20)\n",
    "# 4: (25 – 32)\n",
    "# 5: (38 – 43) \n",
    "# 6: (48 – 53) \n",
    "# 7: (60 – 100)\n",
    "\n",
    "# FEMALE = 1\n",
    "# 8: (0 – 2)\n",
    "# 9: (4 – 6)\n",
    "# 10: (8 – 12)\n",
    "# 11: (15 – 20)\n",
    "# 12: (25 – 32)\n",
    "# 13: (38 – 43) \n",
    "# 14: (48 – 53) \n",
    "# 15: (60 – 100)\n",
    "    '''\n",
    "labels = {\n",
    "    0: 'M,(0 to 2)',\n",
    "    1: 'M,(4 to 6)',\n",
    "    2: 'M,(8 to 12)',\n",
    "    3: 'M,(15 to 20)',\n",
    "    4: 'M,(25 to 32)',\n",
    "    5: 'M,(38 to 43)',\n",
    "    6: 'M,(48 to 53)',\n",
    "    7: 'M,(60 to 100)',\n",
    "    8: 'F,(0 to 2)',\n",
    "    9: 'F,(4 to 6)',\n",
    "    10: 'F,(8 to 12)',\n",
    "    11: 'F,(15 to 20)',\n",
    "    12: 'F,(25 to 32)',\n",
    "    13: 'F,(38 to 43)', \n",
    "    14: 'F,(48 to 53)',\n",
    "    15: 'F,(60 to 100)'\n",
    "        }\n",
    "colours = {0:(255,0,0),1:(0,255,0),2:(0,0,255)}"
   ]
  },
  {
   "cell_type": "code",
   "execution_count": 17,
   "metadata": {
    "colab": {
     "base_uri": "https://localhost:8080/",
     "height": 238
    },
    "id": "xhg0Zh1_bVms",
    "outputId": "9b67f823-22a4-44fa-a230-9cc00a5e2a3b"
   },
   "outputs": [],
   "source": [
    "size = 48\n",
    "src = cv2.VideoCapture(0)\n",
    "while(True):\n",
    "    ret,img = src.read()\n",
    "    img_gray = cv2.cvtColor(img,cv2.COLOR_BGR2GRAY)\n",
    "    faces = face_detector.detectMultiScale(img_gray,1.3,5)\n",
    "    \n",
    "    for x,y,width,height in faces:\n",
    "        \n",
    "        # Extract face\n",
    "        face = img_gray[y:y+height+20,x:x+width]\n",
    "        \n",
    "        # Reshape image\n",
    "        face = cv2.resize(face,(size,size))\n",
    "        face = np.reshape(face,(1, 1, size, size))           \n",
    "  \n",
    "        # Normalize\n",
    "        face = face/255.0\n",
    "        face = torch.Tensor(face)\n",
    " \n",
    "        face = (face - mean)/std\n",
    "        scores = model(face)\n",
    "        _, face_pred = torch.max(scores.data, 1)\n",
    "                \n",
    "        string_output = labels[face_pred.item()]\n",
    "        # Draw coloured rectangle to indicate face detection & label\n",
    "        cv2.rectangle(img,(x,y),(x+width,y+height),colours[0],2)\n",
    "        cv2.rectangle(img,(x,y-40),(x+width,y),colours[0],-1)\n",
    "        cv2.putText(img,string_output,(x,y-10),cv2.FONT_HERSHEY_SIMPLEX,0.8,(255,255,255),2)\n",
    "        \n",
    "    cv2.imshow('LIVE',img)\n",
    "    exit = cv2.waitKey(1)\n",
    "    if (exit==27): # 27 == ACSII char for 'ESC'\n",
    "        break\n",
    "        \n",
    "cv2.destroyAllWindows()\n",
    "src.release()"
   ]
  },
  {
   "cell_type": "code",
   "execution_count": null,
   "metadata": {
    "id": "SeX1lBegbVp8"
   },
   "outputs": [],
   "source": []
  }
 ],
 "metadata": {
  "colab": {
   "collapsed_sections": [],
   "name": "faceDetect_GenderAndAgeClassification_Pytorch.ipynb",
   "provenance": []
  },
  "kernelspec": {
   "display_name": "Pytorch",
   "language": "python",
   "name": "pytorch"
  },
  "language_info": {
   "codemirror_mode": {
    "name": "ipython",
    "version": 3
   },
   "file_extension": ".py",
   "mimetype": "text/x-python",
   "name": "python",
   "nbconvert_exporter": "python",
   "pygments_lexer": "ipython3",
   "version": "3.7.7"
  }
 },
 "nbformat": 4,
 "nbformat_minor": 1
}
